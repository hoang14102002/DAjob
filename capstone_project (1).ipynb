{
 "cells": [
  {
   "cell_type": "markdown",
   "id": "6137fadd",
   "metadata": {},
   "source": [
    "The problem posed is as follows:\n",
    "A computer store specializing in used computers is unaware of how its revenue fluctuates, which type of computer sells the most, and which representative store sells the highest number of computers. Please investigate and visualize the dataset \"Capstone.xlsx\"."
   ]
  },
  {
   "cell_type": "code",
   "execution_count": 1,
   "id": "b4fe0167",
   "metadata": {},
   "outputs": [],
   "source": [
    "import numpy as np\n",
    "import pandas as pd\n",
    "import matplotlib.pyplot as plt\n",
    "import seaborn as sns"
   ]
  },
  {
   "cell_type": "code",
   "execution_count": 2,
   "id": "8999cbb4",
   "metadata": {},
   "outputs": [],
   "source": [
    "df = pd.read_excel('Capstone.xlsx')"
   ]
  },
  {
   "cell_type": "code",
   "execution_count": 99,
   "id": "99cd1dc1",
   "metadata": {},
   "outputs": [
    {
     "data": {
      "text/plain": [
       "CustomerID             object\n",
       "OrderID                object\n",
       "Channel                object\n",
       "PaymentType            object\n",
       "Brand                  object\n",
       "Shop                   object\n",
       "Promotion              object\n",
       "SalePrice             float64\n",
       "Expense               float64\n",
       "SaleDate       datetime64[ns]\n",
       "Reference              object\n",
       "TypeSale             category\n",
       "dtype: object"
      ]
     },
     "execution_count": 99,
     "metadata": {},
     "output_type": "execute_result"
    }
   ],
   "source": [
    "df.dtypes"
   ]
  },
  {
   "cell_type": "code",
   "execution_count": 3,
   "id": "66750de8",
   "metadata": {},
   "outputs": [
    {
     "data": {
      "text/html": [
       "<div>\n",
       "<style scoped>\n",
       "    .dataframe tbody tr th:only-of-type {\n",
       "        vertical-align: middle;\n",
       "    }\n",
       "\n",
       "    .dataframe tbody tr th {\n",
       "        vertical-align: top;\n",
       "    }\n",
       "\n",
       "    .dataframe thead th {\n",
       "        text-align: right;\n",
       "    }\n",
       "</style>\n",
       "<table border=\"1\" class=\"dataframe\">\n",
       "  <thead>\n",
       "    <tr style=\"text-align: right;\">\n",
       "      <th></th>\n",
       "      <th>CustomerID</th>\n",
       "      <th>OrderID</th>\n",
       "      <th>Channel</th>\n",
       "      <th>PaymentType</th>\n",
       "      <th>Brand</th>\n",
       "      <th>Shop</th>\n",
       "      <th>Promotion</th>\n",
       "      <th>SalePrice</th>\n",
       "      <th>Expense</th>\n",
       "      <th>SaleDate</th>\n",
       "      <th>Reference</th>\n",
       "      <th>Cột1</th>\n",
       "      <th>Cột2</th>\n",
       "      <th>Cột3</th>\n",
       "      <th>Cột4</th>\n",
       "      <th>Cột5</th>\n",
       "      <th>Cột6</th>\n",
       "      <th>Cột7</th>\n",
       "      <th>Cột8</th>\n",
       "    </tr>\n",
       "  </thead>\n",
       "  <tbody>\n",
       "    <tr>\n",
       "      <th>0</th>\n",
       "      <td>CTM012</td>\n",
       "      <td>OTS015</td>\n",
       "      <td>Online</td>\n",
       "      <td>Thẻ</td>\n",
       "      <td>LenovoX1</td>\n",
       "      <td>Phong Vũ</td>\n",
       "      <td>Không</td>\n",
       "      <td>27000000.0</td>\n",
       "      <td>20250000.0</td>\n",
       "      <td>2022-04-23</td>\n",
       "      <td>Khác</td>\n",
       "      <td>Thông qua người thân, bạn bè</td>\n",
       "      <td></td>\n",
       "      <td></td>\n",
       "      <td></td>\n",
       "      <td></td>\n",
       "      <td></td>\n",
       "      <td></td>\n",
       "      <td>Khác</td>\n",
       "    </tr>\n",
       "    <tr>\n",
       "      <th>1</th>\n",
       "      <td>CTM10164</td>\n",
       "      <td>OTS831</td>\n",
       "      <td>Offline</td>\n",
       "      <td>Tiền mặt</td>\n",
       "      <td>Apple</td>\n",
       "      <td>Viettel Store</td>\n",
       "      <td>Không</td>\n",
       "      <td>3020000.0</td>\n",
       "      <td>2295200.0</td>\n",
       "      <td>2022-08-03</td>\n",
       "      <td>Nhân viên cửa hàng bán Laptop</td>\n",
       "      <td>Nhân viên cửa hàng bán Laptop</td>\n",
       "      <td>Nhân viên cửa hàng bán Laptop</td>\n",
       "      <td></td>\n",
       "      <td></td>\n",
       "      <td></td>\n",
       "      <td></td>\n",
       "      <td></td>\n",
       "      <td></td>\n",
       "    </tr>\n",
       "    <tr>\n",
       "      <th>2</th>\n",
       "      <td>CTM10246</td>\n",
       "      <td>OTS293</td>\n",
       "      <td>Offline</td>\n",
       "      <td>Tiền mặt</td>\n",
       "      <td>Dell</td>\n",
       "      <td>FPT Shop</td>\n",
       "      <td>Có</td>\n",
       "      <td>18310000.0</td>\n",
       "      <td>14098700.0</td>\n",
       "      <td>2022-10-09</td>\n",
       "      <td>Nhân viên cửa hàng bán Laptop, Mạng xã hội, We...</td>\n",
       "      <td>Mạng xã hội</td>\n",
       "      <td>Nhân viên cửa hàng bán Laptop</td>\n",
       "      <td></td>\n",
       "      <td>Mạng xã hội</td>\n",
       "      <td>Website</td>\n",
       "      <td></td>\n",
       "      <td></td>\n",
       "      <td></td>\n",
       "    </tr>\n",
       "    <tr>\n",
       "      <th>3</th>\n",
       "      <td>CTM1028</td>\n",
       "      <td>OTS34756</td>\n",
       "      <td>Offline</td>\n",
       "      <td>Tiền mặt</td>\n",
       "      <td>MSI</td>\n",
       "      <td>Phong Vũ</td>\n",
       "      <td>Không</td>\n",
       "      <td>12203000.0</td>\n",
       "      <td>9396310.0</td>\n",
       "      <td>2022-05-24</td>\n",
       "      <td>Thông qua người thân, bạn bè, Nhân viên cửa hà...</td>\n",
       "      <td>Website</td>\n",
       "      <td>Nhân viên cửa hàng bán Laptop</td>\n",
       "      <td>Thông qua người thân, bạn bè</td>\n",
       "      <td>Mạng xã hội</td>\n",
       "      <td></td>\n",
       "      <td></td>\n",
       "      <td></td>\n",
       "      <td></td>\n",
       "    </tr>\n",
       "    <tr>\n",
       "      <th>4</th>\n",
       "      <td>CTM1028</td>\n",
       "      <td>OTS1044</td>\n",
       "      <td>Offline</td>\n",
       "      <td>Tiền mặt</td>\n",
       "      <td>Asus</td>\n",
       "      <td>Thế giới di động</td>\n",
       "      <td>Có</td>\n",
       "      <td>13070000.0</td>\n",
       "      <td>9279700.0</td>\n",
       "      <td>2022-10-08</td>\n",
       "      <td>Nhờ người có chuyên môn tư vấn</td>\n",
       "      <td>Phương tiện truyền thông</td>\n",
       "      <td></td>\n",
       "      <td></td>\n",
       "      <td></td>\n",
       "      <td></td>\n",
       "      <td></td>\n",
       "      <td>Nhờ người có chuyên môn tư vấn</td>\n",
       "      <td></td>\n",
       "    </tr>\n",
       "  </tbody>\n",
       "</table>\n",
       "</div>"
      ],
      "text/plain": [
       "  CustomerID   OrderID  Channel PaymentType     Brand              Shop  \\\n",
       "0     CTM012    OTS015   Online         Thẻ  LenovoX1          Phong Vũ   \n",
       "1   CTM10164    OTS831  Offline    Tiền mặt     Apple     Viettel Store   \n",
       "2   CTM10246    OTS293  Offline    Tiền mặt      Dell          FPT Shop   \n",
       "3    CTM1028  OTS34756  Offline    Tiền mặt       MSI          Phong Vũ   \n",
       "4    CTM1028   OTS1044  Offline    Tiền mặt      Asus  Thế giới di động   \n",
       "\n",
       "  Promotion   SalePrice     Expense   SaleDate  \\\n",
       "0     Không  27000000.0  20250000.0 2022-04-23   \n",
       "1     Không   3020000.0   2295200.0 2022-08-03   \n",
       "2        Có  18310000.0  14098700.0 2022-10-09   \n",
       "3     Không  12203000.0   9396310.0 2022-05-24   \n",
       "4        Có  13070000.0   9279700.0 2022-10-08   \n",
       "\n",
       "                                           Reference  \\\n",
       "0                                               Khác   \n",
       "1                      Nhân viên cửa hàng bán Laptop   \n",
       "2  Nhân viên cửa hàng bán Laptop, Mạng xã hội, We...   \n",
       "3  Thông qua người thân, bạn bè, Nhân viên cửa hà...   \n",
       "4                     Nhờ người có chuyên môn tư vấn   \n",
       "\n",
       "                           Cột1                          Cột2  \\\n",
       "0   Thông qua người thân, bạn bè                                  \n",
       "1  Nhân viên cửa hàng bán Laptop  Nhân viên cửa hàng bán Laptop   \n",
       "2                    Mạng xã hội  Nhân viên cửa hàng bán Laptop   \n",
       "3                        Website  Nhân viên cửa hàng bán Laptop   \n",
       "4       Phương tiện truyền thông                                  \n",
       "\n",
       "                          Cột3        Cột4    Cột5 Cột6  \\\n",
       "0                                                             \n",
       "1                                                             \n",
       "2                                Mạng xã hội  Website         \n",
       "3  Thông qua người thân, bạn bè  Mạng xã hội                  \n",
       "4                                                             \n",
       "\n",
       "                            Cột7 Cột8  \n",
       "0                                  Khác  \n",
       "1                                        \n",
       "2                                        \n",
       "3                                        \n",
       "4  Nhờ người có chuyên môn tư vấn        "
      ]
     },
     "execution_count": 3,
     "metadata": {},
     "output_type": "execute_result"
    }
   ],
   "source": [
    "df.head()"
   ]
  },
  {
   "cell_type": "code",
   "execution_count": 4,
   "id": "f6ea86f4",
   "metadata": {},
   "outputs": [],
   "source": [
    "#xử lý xóa các cột không cần thiết"
   ]
  },
  {
   "cell_type": "code",
   "execution_count": 5,
   "id": "d4ca15e7",
   "metadata": {},
   "outputs": [
    {
     "name": "stdout",
     "output_type": "stream",
     "text": [
      "Index(['CustomerID', 'OrderID', 'Channel', 'PaymentType', 'Brand', 'Shop',\n",
      "       'Promotion', 'SalePrice', 'Expense', 'SaleDate', 'Reference', 'Cột1',\n",
      "       'Cột2', 'Cột3', 'Cột4', 'Cột5', 'Cột6', 'Cột7', 'Cột8'],\n",
      "      dtype='object')\n"
     ]
    }
   ],
   "source": [
    "print(df.columns)"
   ]
  },
  {
   "cell_type": "code",
   "execution_count": 6,
   "id": "353efb83",
   "metadata": {},
   "outputs": [],
   "source": [
    "df=df.drop(columns=['Cột1',\n",
    "       'Cột2', 'Cột3', 'Cột4', 'Cột5', 'Cột6', 'Cột7', 'Cột8'])"
   ]
  },
  {
   "cell_type": "code",
   "execution_count": 7,
   "id": "dfdcea24",
   "metadata": {},
   "outputs": [
    {
     "data": {
      "text/html": [
       "<div>\n",
       "<style scoped>\n",
       "    .dataframe tbody tr th:only-of-type {\n",
       "        vertical-align: middle;\n",
       "    }\n",
       "\n",
       "    .dataframe tbody tr th {\n",
       "        vertical-align: top;\n",
       "    }\n",
       "\n",
       "    .dataframe thead th {\n",
       "        text-align: right;\n",
       "    }\n",
       "</style>\n",
       "<table border=\"1\" class=\"dataframe\">\n",
       "  <thead>\n",
       "    <tr style=\"text-align: right;\">\n",
       "      <th></th>\n",
       "      <th>CustomerID</th>\n",
       "      <th>OrderID</th>\n",
       "      <th>Channel</th>\n",
       "      <th>PaymentType</th>\n",
       "      <th>Brand</th>\n",
       "      <th>Shop</th>\n",
       "      <th>Promotion</th>\n",
       "      <th>SalePrice</th>\n",
       "      <th>Expense</th>\n",
       "      <th>SaleDate</th>\n",
       "      <th>Reference</th>\n",
       "    </tr>\n",
       "  </thead>\n",
       "  <tbody>\n",
       "    <tr>\n",
       "      <th>0</th>\n",
       "      <td>CTM012</td>\n",
       "      <td>OTS015</td>\n",
       "      <td>Online</td>\n",
       "      <td>Thẻ</td>\n",
       "      <td>LenovoX1</td>\n",
       "      <td>Phong Vũ</td>\n",
       "      <td>Không</td>\n",
       "      <td>27000000.0</td>\n",
       "      <td>20250000.0</td>\n",
       "      <td>2022-04-23</td>\n",
       "      <td>Khác</td>\n",
       "    </tr>\n",
       "    <tr>\n",
       "      <th>1</th>\n",
       "      <td>CTM10164</td>\n",
       "      <td>OTS831</td>\n",
       "      <td>Offline</td>\n",
       "      <td>Tiền mặt</td>\n",
       "      <td>Apple</td>\n",
       "      <td>Viettel Store</td>\n",
       "      <td>Không</td>\n",
       "      <td>3020000.0</td>\n",
       "      <td>2295200.0</td>\n",
       "      <td>2022-08-03</td>\n",
       "      <td>Nhân viên cửa hàng bán Laptop</td>\n",
       "    </tr>\n",
       "    <tr>\n",
       "      <th>2</th>\n",
       "      <td>CTM10246</td>\n",
       "      <td>OTS293</td>\n",
       "      <td>Offline</td>\n",
       "      <td>Tiền mặt</td>\n",
       "      <td>Dell</td>\n",
       "      <td>FPT Shop</td>\n",
       "      <td>Có</td>\n",
       "      <td>18310000.0</td>\n",
       "      <td>14098700.0</td>\n",
       "      <td>2022-10-09</td>\n",
       "      <td>Nhân viên cửa hàng bán Laptop, Mạng xã hội, We...</td>\n",
       "    </tr>\n",
       "    <tr>\n",
       "      <th>3</th>\n",
       "      <td>CTM1028</td>\n",
       "      <td>OTS34756</td>\n",
       "      <td>Offline</td>\n",
       "      <td>Tiền mặt</td>\n",
       "      <td>MSI</td>\n",
       "      <td>Phong Vũ</td>\n",
       "      <td>Không</td>\n",
       "      <td>12203000.0</td>\n",
       "      <td>9396310.0</td>\n",
       "      <td>2022-05-24</td>\n",
       "      <td>Thông qua người thân, bạn bè, Nhân viên cửa hà...</td>\n",
       "    </tr>\n",
       "    <tr>\n",
       "      <th>4</th>\n",
       "      <td>CTM1028</td>\n",
       "      <td>OTS1044</td>\n",
       "      <td>Offline</td>\n",
       "      <td>Tiền mặt</td>\n",
       "      <td>Asus</td>\n",
       "      <td>Thế giới di động</td>\n",
       "      <td>Có</td>\n",
       "      <td>13070000.0</td>\n",
       "      <td>9279700.0</td>\n",
       "      <td>2022-10-08</td>\n",
       "      <td>Nhờ người có chuyên môn tư vấn</td>\n",
       "    </tr>\n",
       "  </tbody>\n",
       "</table>\n",
       "</div>"
      ],
      "text/plain": [
       "  CustomerID   OrderID  Channel PaymentType     Brand              Shop  \\\n",
       "0     CTM012    OTS015   Online         Thẻ  LenovoX1          Phong Vũ   \n",
       "1   CTM10164    OTS831  Offline    Tiền mặt     Apple     Viettel Store   \n",
       "2   CTM10246    OTS293  Offline    Tiền mặt      Dell          FPT Shop   \n",
       "3    CTM1028  OTS34756  Offline    Tiền mặt       MSI          Phong Vũ   \n",
       "4    CTM1028   OTS1044  Offline    Tiền mặt      Asus  Thế giới di động   \n",
       "\n",
       "  Promotion   SalePrice     Expense   SaleDate  \\\n",
       "0     Không  27000000.0  20250000.0 2022-04-23   \n",
       "1     Không   3020000.0   2295200.0 2022-08-03   \n",
       "2        Có  18310000.0  14098700.0 2022-10-09   \n",
       "3     Không  12203000.0   9396310.0 2022-05-24   \n",
       "4        Có  13070000.0   9279700.0 2022-10-08   \n",
       "\n",
       "                                           Reference  \n",
       "0                                               Khác  \n",
       "1                      Nhân viên cửa hàng bán Laptop  \n",
       "2  Nhân viên cửa hàng bán Laptop, Mạng xã hội, We...  \n",
       "3  Thông qua người thân, bạn bè, Nhân viên cửa hà...  \n",
       "4                     Nhờ người có chuyên môn tư vấn  "
      ]
     },
     "execution_count": 7,
     "metadata": {},
     "output_type": "execute_result"
    }
   ],
   "source": [
    "df.head()"
   ]
  },
  {
   "cell_type": "code",
   "execution_count": 8,
   "id": "bea94d82",
   "metadata": {},
   "outputs": [],
   "source": [
    "#xử lý null"
   ]
  },
  {
   "cell_type": "code",
   "execution_count": 9,
   "id": "f070fe08",
   "metadata": {},
   "outputs": [
    {
     "data": {
      "text/plain": [
       "True"
      ]
     },
     "execution_count": 9,
     "metadata": {},
     "output_type": "execute_result"
    }
   ],
   "source": [
    "df.isnull().values.any()"
   ]
  },
  {
   "cell_type": "code",
   "execution_count": 10,
   "id": "ca8f90ea",
   "metadata": {},
   "outputs": [
    {
     "data": {
      "text/plain": [
       "30"
      ]
     },
     "execution_count": 10,
     "metadata": {},
     "output_type": "execute_result"
    }
   ],
   "source": [
    "df.isnull().sum().sum()"
   ]
  },
  {
   "cell_type": "code",
   "execution_count": 11,
   "id": "b96a0b87",
   "metadata": {},
   "outputs": [
    {
     "data": {
      "text/plain": [
       "12077155.033333333"
      ]
     },
     "execution_count": 11,
     "metadata": {},
     "output_type": "execute_result"
    }
   ],
   "source": [
    "df['SalePrice'].mean()"
   ]
  },
  {
   "cell_type": "code",
   "execution_count": 12,
   "id": "6a001e63",
   "metadata": {},
   "outputs": [],
   "source": [
    "df.SalePrice.fillna(df.SalePrice.mean(),inplace=True)"
   ]
  },
  {
   "cell_type": "code",
   "execution_count": 13,
   "id": "e879016d",
   "metadata": {},
   "outputs": [],
   "source": [
    "df.Reference.fillna('Khác',inplace=True)"
   ]
  },
  {
   "cell_type": "code",
   "execution_count": 14,
   "id": "2dc8f056",
   "metadata": {},
   "outputs": [
    {
     "data": {
      "text/plain": [
       "Channel\n",
       "Offline    785\n",
       "Online     778\n",
       "dtype: int64"
      ]
     },
     "execution_count": 14,
     "metadata": {},
     "output_type": "execute_result"
    }
   ],
   "source": [
    "df.groupby('Channel').size()"
   ]
  },
  {
   "cell_type": "code",
   "execution_count": 15,
   "id": "e034270e",
   "metadata": {},
   "outputs": [],
   "source": [
    "df.Channel.fillna('Offline',inplace=True)"
   ]
  },
  {
   "cell_type": "code",
   "execution_count": 16,
   "id": "570f8e18",
   "metadata": {},
   "outputs": [
    {
     "data": {
      "text/plain": [
       "PaymentType\n",
       "Thẻ         1180\n",
       "Tiền mặt     384\n",
       "dtype: int64"
      ]
     },
     "execution_count": 16,
     "metadata": {},
     "output_type": "execute_result"
    }
   ],
   "source": [
    "df.groupby('PaymentType').size()"
   ]
  },
  {
   "cell_type": "code",
   "execution_count": 17,
   "id": "fb50e24c",
   "metadata": {},
   "outputs": [],
   "source": [
    "df.PaymentType.fillna('Thẻ',inplace=True)"
   ]
  },
  {
   "cell_type": "code",
   "execution_count": 18,
   "id": "2875a43b",
   "metadata": {},
   "outputs": [
    {
     "data": {
      "text/plain": [
       "Shop\n",
       "FPT Shop               293\n",
       "Thế giới di động       262\n",
       "Điện máy xanh          179\n",
       "Phong Vũ               167\n",
       "Viễn thông A           167\n",
       "Techcare               164\n",
       "Nguyễn Kim             112\n",
       "Viettel Store           91\n",
       "Khác                    81\n",
       "Phi Long Technology     25\n",
       "Chợ Lớn                 20\n",
       "dtype: int64"
      ]
     },
     "execution_count": 18,
     "metadata": {},
     "output_type": "execute_result"
    }
   ],
   "source": [
    "df.groupby('Shop').size().sort_values(ascending=False)"
   ]
  },
  {
   "cell_type": "code",
   "execution_count": 19,
   "id": "3bb1fbec",
   "metadata": {},
   "outputs": [],
   "source": [
    "df.Shop.fillna('FPT Shop',inplace=True)"
   ]
  },
  {
   "cell_type": "code",
   "execution_count": 20,
   "id": "67a4bcb7",
   "metadata": {},
   "outputs": [
    {
     "data": {
      "text/plain": [
       "Brand\n",
       "Asus         402\n",
       "Dell         349\n",
       "HP           269\n",
       "Acer         182\n",
       "Apple        143\n",
       "MSI          133\n",
       "Lenovo        57\n",
       "Microsoft     27\n",
       "DellXPS        1\n",
       "LenovoX1       1\n",
       "dtype: int64"
      ]
     },
     "execution_count": 20,
     "metadata": {},
     "output_type": "execute_result"
    }
   ],
   "source": [
    "df.groupby('Brand').size().sort_values(ascending=False)"
   ]
  },
  {
   "cell_type": "code",
   "execution_count": 21,
   "id": "7caed6ac",
   "metadata": {},
   "outputs": [],
   "source": [
    "df.Brand.fillna('Asus',inplace=True)"
   ]
  },
  {
   "cell_type": "code",
   "execution_count": 22,
   "id": "e53ba856",
   "metadata": {},
   "outputs": [
    {
     "data": {
      "text/plain": [
       "CustomerID     3\n",
       "OrderID        7\n",
       "Channel        0\n",
       "PaymentType    0\n",
       "Brand          0\n",
       "Shop           0\n",
       "Promotion      0\n",
       "SalePrice      0\n",
       "Expense        0\n",
       "SaleDate       0\n",
       "Reference      0\n",
       "dtype: int64"
      ]
     },
     "execution_count": 22,
     "metadata": {},
     "output_type": "execute_result"
    }
   ],
   "source": [
    "df.isnull().sum()"
   ]
  },
  {
   "cell_type": "code",
   "execution_count": 23,
   "id": "9d48be39",
   "metadata": {},
   "outputs": [
    {
     "name": "stdout",
     "output_type": "stream",
     "text": [
      "     CustomerID   OrderID  Channel PaymentType Brand           Shop Promotion  \\\n",
      "1563        NaN   OTS1000  Offline    Tiền mặt  Dell  Điện máy xanh        Có   \n",
      "1564        NaN  OTS36486   Online         Thẻ  Asus  Điện máy xanh     Không   \n",
      "1565        NaN  OTS65519   Online         Thẻ    HP   Viễn thông A     Không   \n",
      "\n",
      "         SalePrice      Expense   SaleDate  \\\n",
      "1563  1.207716e+07         0.00 2022-02-17   \n",
      "1564  1.860000e+07  14136000.00 2022-12-21   \n",
      "1565  1.641000e+03      1279.98 2022-12-25   \n",
      "\n",
      "                                              Reference  \n",
      "1563                                               Khác  \n",
      "1564                      Nhân viên cửa hàng bán Laptop  \n",
      "1565  Thông qua người thân, bạn bè, Nhân viên cửa hà...  \n"
     ]
    }
   ],
   "source": [
    "selected_records = df[df['CustomerID'].isnull()]\n",
    "print(selected_records)"
   ]
  },
  {
   "cell_type": "code",
   "execution_count": 24,
   "id": "33fa0fa2",
   "metadata": {},
   "outputs": [],
   "source": [
    "import random\n",
    "df.CustomerID.fillna('CTM'+str(random.randrange(999,2000)),inplace=True)"
   ]
  },
  {
   "cell_type": "code",
   "execution_count": 28,
   "id": "ec6bc18f",
   "metadata": {},
   "outputs": [
    {
     "data": {
      "text/html": [
       "<div>\n",
       "<style scoped>\n",
       "    .dataframe tbody tr th:only-of-type {\n",
       "        vertical-align: middle;\n",
       "    }\n",
       "\n",
       "    .dataframe tbody tr th {\n",
       "        vertical-align: top;\n",
       "    }\n",
       "\n",
       "    .dataframe thead th {\n",
       "        text-align: right;\n",
       "    }\n",
       "</style>\n",
       "<table border=\"1\" class=\"dataframe\">\n",
       "  <thead>\n",
       "    <tr style=\"text-align: right;\">\n",
       "      <th></th>\n",
       "      <th>CustomerID</th>\n",
       "      <th>OrderID</th>\n",
       "      <th>Channel</th>\n",
       "      <th>PaymentType</th>\n",
       "      <th>Brand</th>\n",
       "      <th>Shop</th>\n",
       "      <th>Promotion</th>\n",
       "      <th>SalePrice</th>\n",
       "      <th>Expense</th>\n",
       "      <th>SaleDate</th>\n",
       "      <th>Reference</th>\n",
       "    </tr>\n",
       "  </thead>\n",
       "  <tbody>\n",
       "    <tr>\n",
       "      <th>0</th>\n",
       "      <td>CTM012</td>\n",
       "      <td>OTS015</td>\n",
       "      <td>Online</td>\n",
       "      <td>Thẻ</td>\n",
       "      <td>LenovoX1</td>\n",
       "      <td>Phong Vũ</td>\n",
       "      <td>Không</td>\n",
       "      <td>27000000.0</td>\n",
       "      <td>20250000.0</td>\n",
       "      <td>2022-04-23</td>\n",
       "      <td>Khác</td>\n",
       "    </tr>\n",
       "    <tr>\n",
       "      <th>1</th>\n",
       "      <td>CTM10164</td>\n",
       "      <td>OTS831</td>\n",
       "      <td>Offline</td>\n",
       "      <td>Tiền mặt</td>\n",
       "      <td>Apple</td>\n",
       "      <td>Viettel Store</td>\n",
       "      <td>Không</td>\n",
       "      <td>3020000.0</td>\n",
       "      <td>2295200.0</td>\n",
       "      <td>2022-08-03</td>\n",
       "      <td>Nhân viên cửa hàng bán Laptop</td>\n",
       "    </tr>\n",
       "    <tr>\n",
       "      <th>2</th>\n",
       "      <td>CTM10246</td>\n",
       "      <td>OTS293</td>\n",
       "      <td>Offline</td>\n",
       "      <td>Tiền mặt</td>\n",
       "      <td>Dell</td>\n",
       "      <td>FPT Shop</td>\n",
       "      <td>Có</td>\n",
       "      <td>18310000.0</td>\n",
       "      <td>14098700.0</td>\n",
       "      <td>2022-10-09</td>\n",
       "      <td>Nhân viên cửa hàng bán Laptop, Mạng xã hội, We...</td>\n",
       "    </tr>\n",
       "    <tr>\n",
       "      <th>3</th>\n",
       "      <td>CTM1028</td>\n",
       "      <td>OTS34756</td>\n",
       "      <td>Offline</td>\n",
       "      <td>Tiền mặt</td>\n",
       "      <td>MSI</td>\n",
       "      <td>Phong Vũ</td>\n",
       "      <td>Không</td>\n",
       "      <td>12203000.0</td>\n",
       "      <td>9396310.0</td>\n",
       "      <td>2022-05-24</td>\n",
       "      <td>Thông qua người thân, bạn bè, Nhân viên cửa hà...</td>\n",
       "    </tr>\n",
       "    <tr>\n",
       "      <th>4</th>\n",
       "      <td>CTM1028</td>\n",
       "      <td>OTS1044</td>\n",
       "      <td>Offline</td>\n",
       "      <td>Tiền mặt</td>\n",
       "      <td>Asus</td>\n",
       "      <td>Thế giới di động</td>\n",
       "      <td>Có</td>\n",
       "      <td>13070000.0</td>\n",
       "      <td>9279700.0</td>\n",
       "      <td>2022-10-08</td>\n",
       "      <td>Nhờ người có chuyên môn tư vấn</td>\n",
       "    </tr>\n",
       "  </tbody>\n",
       "</table>\n",
       "</div>"
      ],
      "text/plain": [
       "  CustomerID   OrderID  Channel PaymentType     Brand              Shop  \\\n",
       "0     CTM012    OTS015   Online         Thẻ  LenovoX1          Phong Vũ   \n",
       "1   CTM10164    OTS831  Offline    Tiền mặt     Apple     Viettel Store   \n",
       "2   CTM10246    OTS293  Offline    Tiền mặt      Dell          FPT Shop   \n",
       "3    CTM1028  OTS34756  Offline    Tiền mặt       MSI          Phong Vũ   \n",
       "4    CTM1028   OTS1044  Offline    Tiền mặt      Asus  Thế giới di động   \n",
       "\n",
       "  Promotion   SalePrice     Expense   SaleDate  \\\n",
       "0     Không  27000000.0  20250000.0 2022-04-23   \n",
       "1     Không   3020000.0   2295200.0 2022-08-03   \n",
       "2        Có  18310000.0  14098700.0 2022-10-09   \n",
       "3     Không  12203000.0   9396310.0 2022-05-24   \n",
       "4        Có  13070000.0   9279700.0 2022-10-08   \n",
       "\n",
       "                                           Reference  \n",
       "0                                               Khác  \n",
       "1                      Nhân viên cửa hàng bán Laptop  \n",
       "2  Nhân viên cửa hàng bán Laptop, Mạng xã hội, We...  \n",
       "3  Thông qua người thân, bạn bè, Nhân viên cửa hà...  \n",
       "4                     Nhờ người có chuyên môn tư vấn  "
      ]
     },
     "execution_count": 28,
     "metadata": {},
     "output_type": "execute_result"
    }
   ],
   "source": [
    "df.head()"
   ]
  },
  {
   "cell_type": "code",
   "execution_count": 29,
   "id": "1872f11d",
   "metadata": {},
   "outputs": [
    {
     "name": "stdout",
     "output_type": "stream",
     "text": [
      "Empty DataFrame\n",
      "Columns: [CustomerID, OrderID, Channel, PaymentType, Brand, Shop, Promotion, SalePrice, Expense, SaleDate, Reference]\n",
      "Index: []\n"
     ]
    }
   ],
   "source": [
    "selected_records = df[df['OrderID'].isnull()]\n",
    "print(selected_records)"
   ]
  },
  {
   "cell_type": "code",
   "execution_count": 30,
   "id": "742affb3",
   "metadata": {},
   "outputs": [],
   "source": [
    "import random\n",
    "df.OrderID.fillna('OTS'+str(random.randrange(100,999)),inplace=True)"
   ]
  },
  {
   "cell_type": "code",
   "execution_count": 31,
   "id": "162f342a",
   "metadata": {},
   "outputs": [
    {
     "data": {
      "text/plain": [
       "CustomerID     0\n",
       "OrderID        0\n",
       "Channel        0\n",
       "PaymentType    0\n",
       "Brand          0\n",
       "Shop           0\n",
       "Promotion      0\n",
       "SalePrice      0\n",
       "Expense        0\n",
       "SaleDate       0\n",
       "Reference      0\n",
       "dtype: int64"
      ]
     },
     "execution_count": 31,
     "metadata": {},
     "output_type": "execute_result"
    }
   ],
   "source": [
    "df.isnull().sum()"
   ]
  },
  {
   "cell_type": "code",
   "execution_count": 32,
   "id": "12286463",
   "metadata": {},
   "outputs": [
    {
     "data": {
      "text/plain": [
       "0"
      ]
     },
     "execution_count": 32,
     "metadata": {},
     "output_type": "execute_result"
    }
   ],
   "source": [
    "df.isnull().sum().sum()"
   ]
  },
  {
   "cell_type": "code",
   "execution_count": 33,
   "id": "a229fe05",
   "metadata": {},
   "outputs": [],
   "source": [
    "#Hết null"
   ]
  },
  {
   "cell_type": "code",
   "execution_count": 34,
   "id": "29cc6537",
   "metadata": {},
   "outputs": [
    {
     "data": {
      "text/html": [
       "<div>\n",
       "<style scoped>\n",
       "    .dataframe tbody tr th:only-of-type {\n",
       "        vertical-align: middle;\n",
       "    }\n",
       "\n",
       "    .dataframe tbody tr th {\n",
       "        vertical-align: top;\n",
       "    }\n",
       "\n",
       "    .dataframe thead th {\n",
       "        text-align: right;\n",
       "    }\n",
       "</style>\n",
       "<table border=\"1\" class=\"dataframe\">\n",
       "  <thead>\n",
       "    <tr style=\"text-align: right;\">\n",
       "      <th></th>\n",
       "      <th>CustomerID</th>\n",
       "      <th>OrderID</th>\n",
       "      <th>Channel</th>\n",
       "      <th>PaymentType</th>\n",
       "      <th>Brand</th>\n",
       "      <th>Shop</th>\n",
       "      <th>Promotion</th>\n",
       "      <th>SalePrice</th>\n",
       "      <th>Expense</th>\n",
       "      <th>SaleDate</th>\n",
       "      <th>Reference</th>\n",
       "    </tr>\n",
       "  </thead>\n",
       "  <tbody>\n",
       "    <tr>\n",
       "      <th>0</th>\n",
       "      <td>CTM012</td>\n",
       "      <td>OTS015</td>\n",
       "      <td>Online</td>\n",
       "      <td>Thẻ</td>\n",
       "      <td>LenovoX1</td>\n",
       "      <td>Phong Vũ</td>\n",
       "      <td>Không</td>\n",
       "      <td>2.700000e+07</td>\n",
       "      <td>20250000.00</td>\n",
       "      <td>2022-04-23</td>\n",
       "      <td>Khác</td>\n",
       "    </tr>\n",
       "    <tr>\n",
       "      <th>1</th>\n",
       "      <td>CTM10164</td>\n",
       "      <td>OTS831</td>\n",
       "      <td>Offline</td>\n",
       "      <td>Tiền mặt</td>\n",
       "      <td>Apple</td>\n",
       "      <td>Viettel Store</td>\n",
       "      <td>Không</td>\n",
       "      <td>3.020000e+06</td>\n",
       "      <td>2295200.00</td>\n",
       "      <td>2022-08-03</td>\n",
       "      <td>Nhân viên cửa hàng bán Laptop</td>\n",
       "    </tr>\n",
       "    <tr>\n",
       "      <th>2</th>\n",
       "      <td>CTM10246</td>\n",
       "      <td>OTS293</td>\n",
       "      <td>Offline</td>\n",
       "      <td>Tiền mặt</td>\n",
       "      <td>Dell</td>\n",
       "      <td>FPT Shop</td>\n",
       "      <td>Có</td>\n",
       "      <td>1.831000e+07</td>\n",
       "      <td>14098700.00</td>\n",
       "      <td>2022-10-09</td>\n",
       "      <td>Nhân viên cửa hàng bán Laptop, Mạng xã hội, We...</td>\n",
       "    </tr>\n",
       "    <tr>\n",
       "      <th>3</th>\n",
       "      <td>CTM1028</td>\n",
       "      <td>OTS34756</td>\n",
       "      <td>Offline</td>\n",
       "      <td>Tiền mặt</td>\n",
       "      <td>MSI</td>\n",
       "      <td>Phong Vũ</td>\n",
       "      <td>Không</td>\n",
       "      <td>1.220300e+07</td>\n",
       "      <td>9396310.00</td>\n",
       "      <td>2022-05-24</td>\n",
       "      <td>Thông qua người thân, bạn bè, Nhân viên cửa hà...</td>\n",
       "    </tr>\n",
       "    <tr>\n",
       "      <th>4</th>\n",
       "      <td>CTM1028</td>\n",
       "      <td>OTS1044</td>\n",
       "      <td>Offline</td>\n",
       "      <td>Tiền mặt</td>\n",
       "      <td>Asus</td>\n",
       "      <td>Thế giới di động</td>\n",
       "      <td>Có</td>\n",
       "      <td>1.307000e+07</td>\n",
       "      <td>9279700.00</td>\n",
       "      <td>2022-10-08</td>\n",
       "      <td>Nhờ người có chuyên môn tư vấn</td>\n",
       "    </tr>\n",
       "    <tr>\n",
       "      <th>...</th>\n",
       "      <td>...</td>\n",
       "      <td>...</td>\n",
       "      <td>...</td>\n",
       "      <td>...</td>\n",
       "      <td>...</td>\n",
       "      <td>...</td>\n",
       "      <td>...</td>\n",
       "      <td>...</td>\n",
       "      <td>...</td>\n",
       "      <td>...</td>\n",
       "      <td>...</td>\n",
       "    </tr>\n",
       "    <tr>\n",
       "      <th>1561</th>\n",
       "      <td>CTM99985</td>\n",
       "      <td>OTS60931</td>\n",
       "      <td>Online</td>\n",
       "      <td>Thẻ</td>\n",
       "      <td>Asus</td>\n",
       "      <td>Điện máy xanh</td>\n",
       "      <td>Không</td>\n",
       "      <td>4.248000e+06</td>\n",
       "      <td>3228480.00</td>\n",
       "      <td>2022-01-11</td>\n",
       "      <td>Thông qua người thân, bạn bè, Nhờ người có chu...</td>\n",
       "    </tr>\n",
       "    <tr>\n",
       "      <th>1562</th>\n",
       "      <td>CTM99985</td>\n",
       "      <td>OTS451</td>\n",
       "      <td>Offline</td>\n",
       "      <td>Tiền mặt</td>\n",
       "      <td>Dell</td>\n",
       "      <td>FPT Shop</td>\n",
       "      <td>Không</td>\n",
       "      <td>1.439000e+07</td>\n",
       "      <td>10792500.00</td>\n",
       "      <td>2022-12-26</td>\n",
       "      <td>Thông qua người thân, bạn bè, Mạng xã hội</td>\n",
       "    </tr>\n",
       "    <tr>\n",
       "      <th>1563</th>\n",
       "      <td>CTM1357</td>\n",
       "      <td>OTS1000</td>\n",
       "      <td>Offline</td>\n",
       "      <td>Tiền mặt</td>\n",
       "      <td>Dell</td>\n",
       "      <td>Điện máy xanh</td>\n",
       "      <td>Có</td>\n",
       "      <td>1.207716e+07</td>\n",
       "      <td>0.00</td>\n",
       "      <td>2022-02-17</td>\n",
       "      <td>Khác</td>\n",
       "    </tr>\n",
       "    <tr>\n",
       "      <th>1564</th>\n",
       "      <td>CTM1357</td>\n",
       "      <td>OTS36486</td>\n",
       "      <td>Online</td>\n",
       "      <td>Thẻ</td>\n",
       "      <td>Asus</td>\n",
       "      <td>Điện máy xanh</td>\n",
       "      <td>Không</td>\n",
       "      <td>1.860000e+07</td>\n",
       "      <td>14136000.00</td>\n",
       "      <td>2022-12-21</td>\n",
       "      <td>Nhân viên cửa hàng bán Laptop</td>\n",
       "    </tr>\n",
       "    <tr>\n",
       "      <th>1565</th>\n",
       "      <td>CTM1357</td>\n",
       "      <td>OTS65519</td>\n",
       "      <td>Online</td>\n",
       "      <td>Thẻ</td>\n",
       "      <td>HP</td>\n",
       "      <td>Viễn thông A</td>\n",
       "      <td>Không</td>\n",
       "      <td>1.641000e+03</td>\n",
       "      <td>1279.98</td>\n",
       "      <td>2022-12-25</td>\n",
       "      <td>Thông qua người thân, bạn bè, Nhân viên cửa hà...</td>\n",
       "    </tr>\n",
       "  </tbody>\n",
       "</table>\n",
       "<p>1566 rows × 11 columns</p>\n",
       "</div>"
      ],
      "text/plain": [
       "     CustomerID   OrderID  Channel PaymentType     Brand              Shop  \\\n",
       "0        CTM012    OTS015   Online         Thẻ  LenovoX1          Phong Vũ   \n",
       "1      CTM10164    OTS831  Offline    Tiền mặt     Apple     Viettel Store   \n",
       "2      CTM10246    OTS293  Offline    Tiền mặt      Dell          FPT Shop   \n",
       "3       CTM1028  OTS34756  Offline    Tiền mặt       MSI          Phong Vũ   \n",
       "4       CTM1028   OTS1044  Offline    Tiền mặt      Asus  Thế giới di động   \n",
       "...         ...       ...      ...         ...       ...               ...   \n",
       "1561   CTM99985  OTS60931   Online         Thẻ      Asus     Điện máy xanh   \n",
       "1562   CTM99985    OTS451  Offline    Tiền mặt      Dell          FPT Shop   \n",
       "1563    CTM1357   OTS1000  Offline    Tiền mặt      Dell     Điện máy xanh   \n",
       "1564    CTM1357  OTS36486   Online         Thẻ      Asus     Điện máy xanh   \n",
       "1565    CTM1357  OTS65519   Online         Thẻ        HP      Viễn thông A   \n",
       "\n",
       "     Promotion     SalePrice      Expense   SaleDate  \\\n",
       "0        Không  2.700000e+07  20250000.00 2022-04-23   \n",
       "1        Không  3.020000e+06   2295200.00 2022-08-03   \n",
       "2           Có  1.831000e+07  14098700.00 2022-10-09   \n",
       "3        Không  1.220300e+07   9396310.00 2022-05-24   \n",
       "4           Có  1.307000e+07   9279700.00 2022-10-08   \n",
       "...        ...           ...          ...        ...   \n",
       "1561     Không  4.248000e+06   3228480.00 2022-01-11   \n",
       "1562     Không  1.439000e+07  10792500.00 2022-12-26   \n",
       "1563        Có  1.207716e+07         0.00 2022-02-17   \n",
       "1564     Không  1.860000e+07  14136000.00 2022-12-21   \n",
       "1565     Không  1.641000e+03      1279.98 2022-12-25   \n",
       "\n",
       "                                              Reference  \n",
       "0                                                  Khác  \n",
       "1                         Nhân viên cửa hàng bán Laptop  \n",
       "2     Nhân viên cửa hàng bán Laptop, Mạng xã hội, We...  \n",
       "3     Thông qua người thân, bạn bè, Nhân viên cửa hà...  \n",
       "4                        Nhờ người có chuyên môn tư vấn  \n",
       "...                                                 ...  \n",
       "1561  Thông qua người thân, bạn bè, Nhờ người có chu...  \n",
       "1562          Thông qua người thân, bạn bè, Mạng xã hội  \n",
       "1563                                               Khác  \n",
       "1564                      Nhân viên cửa hàng bán Laptop  \n",
       "1565  Thông qua người thân, bạn bè, Nhân viên cửa hà...  \n",
       "\n",
       "[1566 rows x 11 columns]"
      ]
     },
     "execution_count": 34,
     "metadata": {},
     "output_type": "execute_result"
    }
   ],
   "source": [
    "df"
   ]
  },
  {
   "cell_type": "code",
   "execution_count": 50,
   "id": "c038a959",
   "metadata": {},
   "outputs": [
    {
     "data": {
      "text/html": [
       "<div>\n",
       "<style scoped>\n",
       "    .dataframe tbody tr th:only-of-type {\n",
       "        vertical-align: middle;\n",
       "    }\n",
       "\n",
       "    .dataframe tbody tr th {\n",
       "        vertical-align: top;\n",
       "    }\n",
       "\n",
       "    .dataframe thead th {\n",
       "        text-align: right;\n",
       "    }\n",
       "</style>\n",
       "<table border=\"1\" class=\"dataframe\">\n",
       "  <thead>\n",
       "    <tr style=\"text-align: right;\">\n",
       "      <th></th>\n",
       "      <th>CustomerID</th>\n",
       "      <th>OrderID</th>\n",
       "      <th>Channel</th>\n",
       "      <th>PaymentType</th>\n",
       "      <th>Brand</th>\n",
       "      <th>Shop</th>\n",
       "      <th>Promotion</th>\n",
       "      <th>SalePrice</th>\n",
       "      <th>Expense</th>\n",
       "      <th>SaleDate</th>\n",
       "      <th>Reference</th>\n",
       "      <th>TypeSale</th>\n",
       "    </tr>\n",
       "  </thead>\n",
       "  <tbody>\n",
       "    <tr>\n",
       "      <th>0</th>\n",
       "      <td>CTM012</td>\n",
       "      <td>OTS015</td>\n",
       "      <td>Online</td>\n",
       "      <td>Thẻ</td>\n",
       "      <td>LenovoX1</td>\n",
       "      <td>Phong Vũ</td>\n",
       "      <td>Không</td>\n",
       "      <td>27000000.0</td>\n",
       "      <td>20250000.0</td>\n",
       "      <td>2022-04-23</td>\n",
       "      <td>Khác</td>\n",
       "      <td>Mid-range Price</td>\n",
       "    </tr>\n",
       "    <tr>\n",
       "      <th>1</th>\n",
       "      <td>CTM10164</td>\n",
       "      <td>OTS831</td>\n",
       "      <td>Offline</td>\n",
       "      <td>Tiền mặt</td>\n",
       "      <td>Apple</td>\n",
       "      <td>Viettel Store</td>\n",
       "      <td>Không</td>\n",
       "      <td>3020000.0</td>\n",
       "      <td>2295200.0</td>\n",
       "      <td>2022-08-03</td>\n",
       "      <td>Nhân viên cửa hàng bán Laptop</td>\n",
       "      <td>Cheap</td>\n",
       "    </tr>\n",
       "    <tr>\n",
       "      <th>2</th>\n",
       "      <td>CTM10246</td>\n",
       "      <td>OTS293</td>\n",
       "      <td>Offline</td>\n",
       "      <td>Tiền mặt</td>\n",
       "      <td>Dell</td>\n",
       "      <td>FPT Shop</td>\n",
       "      <td>Có</td>\n",
       "      <td>18310000.0</td>\n",
       "      <td>14098700.0</td>\n",
       "      <td>2022-10-09</td>\n",
       "      <td>Nhân viên cửa hàng bán Laptop, Mạng xã hội, We...</td>\n",
       "      <td>Cheap</td>\n",
       "    </tr>\n",
       "    <tr>\n",
       "      <th>3</th>\n",
       "      <td>CTM1028</td>\n",
       "      <td>OTS34756</td>\n",
       "      <td>Offline</td>\n",
       "      <td>Tiền mặt</td>\n",
       "      <td>MSI</td>\n",
       "      <td>Phong Vũ</td>\n",
       "      <td>Không</td>\n",
       "      <td>12203000.0</td>\n",
       "      <td>9396310.0</td>\n",
       "      <td>2022-05-24</td>\n",
       "      <td>Thông qua người thân, bạn bè, Nhân viên cửa hà...</td>\n",
       "      <td>Cheap</td>\n",
       "    </tr>\n",
       "    <tr>\n",
       "      <th>4</th>\n",
       "      <td>CTM1028</td>\n",
       "      <td>OTS1044</td>\n",
       "      <td>Offline</td>\n",
       "      <td>Tiền mặt</td>\n",
       "      <td>Asus</td>\n",
       "      <td>Thế giới di động</td>\n",
       "      <td>Có</td>\n",
       "      <td>13070000.0</td>\n",
       "      <td>9279700.0</td>\n",
       "      <td>2022-10-08</td>\n",
       "      <td>Nhờ người có chuyên môn tư vấn</td>\n",
       "      <td>Cheap</td>\n",
       "    </tr>\n",
       "  </tbody>\n",
       "</table>\n",
       "</div>"
      ],
      "text/plain": [
       "  CustomerID   OrderID  Channel PaymentType     Brand              Shop  \\\n",
       "0     CTM012    OTS015   Online         Thẻ  LenovoX1          Phong Vũ   \n",
       "1   CTM10164    OTS831  Offline    Tiền mặt     Apple     Viettel Store   \n",
       "2   CTM10246    OTS293  Offline    Tiền mặt      Dell          FPT Shop   \n",
       "3    CTM1028  OTS34756  Offline    Tiền mặt       MSI          Phong Vũ   \n",
       "4    CTM1028   OTS1044  Offline    Tiền mặt      Asus  Thế giới di động   \n",
       "\n",
       "  Promotion   SalePrice     Expense   SaleDate  \\\n",
       "0     Không  27000000.0  20250000.0 2022-04-23   \n",
       "1     Không   3020000.0   2295200.0 2022-08-03   \n",
       "2        Có  18310000.0  14098700.0 2022-10-09   \n",
       "3     Không  12203000.0   9396310.0 2022-05-24   \n",
       "4        Có  13070000.0   9279700.0 2022-10-08   \n",
       "\n",
       "                                           Reference         TypeSale  \n",
       "0                                               Khác  Mid-range Price  \n",
       "1                      Nhân viên cửa hàng bán Laptop            Cheap  \n",
       "2  Nhân viên cửa hàng bán Laptop, Mạng xã hội, We...            Cheap  \n",
       "3  Thông qua người thân, bạn bè, Nhân viên cửa hà...            Cheap  \n",
       "4                     Nhờ người có chuyên môn tư vấn            Cheap  "
      ]
     },
     "execution_count": 50,
     "metadata": {},
     "output_type": "execute_result"
    }
   ],
   "source": [
    "df['TypeSale']=pd.cut(df['SalePrice'],3,labels=['Cheap','Mid-range Price','Expensive'])\n",
    "df.head()"
   ]
  },
  {
   "cell_type": "code",
   "execution_count": 51,
   "id": "f3f66cee",
   "metadata": {},
   "outputs": [],
   "source": [
    "#đổi sale price từ USD sang VND"
   ]
  },
  {
   "cell_type": "code",
   "execution_count": 52,
   "id": "5de6aad6",
   "metadata": {},
   "outputs": [
    {
     "name": "stdout",
     "output_type": "stream",
     "text": [
      "Series([], Name: SalePrice, dtype: float64)\n"
     ]
    }
   ],
   "source": [
    "filtered_df = df[df[\"SalePrice\"] < 10000 ]\n",
    "# In ra những bản ghi thỏa mãn điều kiện\n",
    "print(filtered_df[\"SalePrice\"])\n"
   ]
  },
  {
   "cell_type": "code",
   "execution_count": 53,
   "id": "70ca673d",
   "metadata": {},
   "outputs": [],
   "source": [
    "df.loc[df[\"SalePrice\"] <10000 , \"SalePrice\"] = df.loc[df[\"SalePrice\"] < 10000, \"SalePrice\"] * 23000\n"
   ]
  },
  {
   "cell_type": "code",
   "execution_count": 54,
   "id": "2a36bd76",
   "metadata": {},
   "outputs": [
    {
     "name": "stdout",
     "output_type": "stream",
     "text": [
      "Series([], Name: SalePrice, dtype: float64)\n"
     ]
    }
   ],
   "source": [
    "#check\n",
    "filtered_df_2 = df[df[\"SalePrice\"] < 10000 ]\n",
    "print(filtered_df_2[\"SalePrice\"])"
   ]
  },
  {
   "cell_type": "code",
   "execution_count": 55,
   "id": "d9090cba",
   "metadata": {},
   "outputs": [
    {
     "data": {
      "text/plain": [
       "15800739.837931033"
      ]
     },
     "execution_count": 55,
     "metadata": {},
     "output_type": "execute_result"
    }
   ],
   "source": [
    "df['SalePrice'].mean()"
   ]
  },
  {
   "cell_type": "code",
   "execution_count": 56,
   "id": "213817f1",
   "metadata": {},
   "outputs": [],
   "source": [
    "df[\"SalePrice\"] = df[\"SalePrice\"].replace(0.0, 15790656)"
   ]
  },
  {
   "cell_type": "code",
   "execution_count": 57,
   "id": "6a07e5bb",
   "metadata": {},
   "outputs": [
    {
     "name": "stdout",
     "output_type": "stream",
     "text": [
      "Series([], Name: SalePrice, dtype: float64)\n"
     ]
    }
   ],
   "source": [
    "#check again\n",
    "filtered_df_2 = df[df[\"SalePrice\"] < 10000 ]\n",
    "print(filtered_df_2[\"SalePrice\"])\n",
    "#oke"
   ]
  },
  {
   "cell_type": "code",
   "execution_count": 58,
   "id": "262e3905",
   "metadata": {},
   "outputs": [
    {
     "name": "stdout",
     "output_type": "stream",
     "text": [
      "Series([], Name: Expense, dtype: float64)\n"
     ]
    }
   ],
   "source": [
    "#Đổi Expense từ USD sang VND\n",
    "filtered_df = df[df[\"Expense\"] < 10000 ]\n",
    "# In ra những bản ghi thỏa mãn điều kiện\n",
    "print(filtered_df[\"Expense\"])"
   ]
  },
  {
   "cell_type": "code",
   "execution_count": 59,
   "id": "82ec90dd",
   "metadata": {},
   "outputs": [],
   "source": [
    "df.loc[df[\"Expense\"] <10000 , \"Expense\"] = df.loc[df[\"Expense\"] < 10000, \"Expense\"] * 23000\n"
   ]
  },
  {
   "cell_type": "code",
   "execution_count": 60,
   "id": "95b11349",
   "metadata": {},
   "outputs": [
    {
     "name": "stdout",
     "output_type": "stream",
     "text": [
      "Series([], Name: Expense, dtype: float64)\n"
     ]
    }
   ],
   "source": [
    "filtered_df_2 = df[df[\"Expense\"] < 10000 ]\n",
    "print(filtered_df_2[\"Expense\"])"
   ]
  },
  {
   "cell_type": "code",
   "execution_count": 61,
   "id": "264e02fe",
   "metadata": {},
   "outputs": [
    {
     "data": {
      "text/plain": [
       "11894852.98403576"
      ]
     },
     "execution_count": 61,
     "metadata": {},
     "output_type": "execute_result"
    }
   ],
   "source": [
    "df['Expense'].mean()"
   ]
  },
  {
   "cell_type": "code",
   "execution_count": 62,
   "id": "550d0a6a",
   "metadata": {},
   "outputs": [],
   "source": [
    "df[\"Expense\"] = df[\"Expense\"].replace(0.0,11841919)"
   ]
  },
  {
   "cell_type": "code",
   "execution_count": 63,
   "id": "d0899ae6",
   "metadata": {},
   "outputs": [
    {
     "name": "stdout",
     "output_type": "stream",
     "text": [
      "Series([], Name: Expense, dtype: float64)\n"
     ]
    }
   ],
   "source": [
    "filtered_df_2 = df[df[\"Expense\"] < 10000 ]\n",
    "print(filtered_df_2[\"Expense\"])"
   ]
  },
  {
   "cell_type": "code",
   "execution_count": 64,
   "id": "f525e001",
   "metadata": {},
   "outputs": [
    {
     "data": {
      "text/html": [
       "<div>\n",
       "<style scoped>\n",
       "    .dataframe tbody tr th:only-of-type {\n",
       "        vertical-align: middle;\n",
       "    }\n",
       "\n",
       "    .dataframe tbody tr th {\n",
       "        vertical-align: top;\n",
       "    }\n",
       "\n",
       "    .dataframe thead th {\n",
       "        text-align: right;\n",
       "    }\n",
       "</style>\n",
       "<table border=\"1\" class=\"dataframe\">\n",
       "  <thead>\n",
       "    <tr style=\"text-align: right;\">\n",
       "      <th></th>\n",
       "      <th>CustomerID</th>\n",
       "      <th>OrderID</th>\n",
       "      <th>Channel</th>\n",
       "      <th>PaymentType</th>\n",
       "      <th>Brand</th>\n",
       "      <th>Shop</th>\n",
       "      <th>Promotion</th>\n",
       "      <th>SalePrice</th>\n",
       "      <th>Expense</th>\n",
       "      <th>SaleDate</th>\n",
       "      <th>Reference</th>\n",
       "      <th>TypeSale</th>\n",
       "    </tr>\n",
       "  </thead>\n",
       "  <tbody>\n",
       "    <tr>\n",
       "      <th>0</th>\n",
       "      <td>CTM012</td>\n",
       "      <td>OTS015</td>\n",
       "      <td>Online</td>\n",
       "      <td>Thẻ</td>\n",
       "      <td>LenovoX1</td>\n",
       "      <td>Phong Vũ</td>\n",
       "      <td>Không</td>\n",
       "      <td>27000000.0</td>\n",
       "      <td>20250000.0</td>\n",
       "      <td>2022-04-23</td>\n",
       "      <td>Khác</td>\n",
       "      <td>Mid-range Price</td>\n",
       "    </tr>\n",
       "    <tr>\n",
       "      <th>1</th>\n",
       "      <td>CTM10164</td>\n",
       "      <td>OTS831</td>\n",
       "      <td>Offline</td>\n",
       "      <td>Tiền mặt</td>\n",
       "      <td>Apple</td>\n",
       "      <td>Viettel Store</td>\n",
       "      <td>Không</td>\n",
       "      <td>3020000.0</td>\n",
       "      <td>2295200.0</td>\n",
       "      <td>2022-08-03</td>\n",
       "      <td>Nhân viên cửa hàng bán Laptop</td>\n",
       "      <td>Cheap</td>\n",
       "    </tr>\n",
       "    <tr>\n",
       "      <th>2</th>\n",
       "      <td>CTM10246</td>\n",
       "      <td>OTS293</td>\n",
       "      <td>Offline</td>\n",
       "      <td>Tiền mặt</td>\n",
       "      <td>Dell</td>\n",
       "      <td>FPT Shop</td>\n",
       "      <td>Có</td>\n",
       "      <td>18310000.0</td>\n",
       "      <td>14098700.0</td>\n",
       "      <td>2022-10-09</td>\n",
       "      <td>Nhân viên cửa hàng bán Laptop, Mạng xã hội, We...</td>\n",
       "      <td>Cheap</td>\n",
       "    </tr>\n",
       "    <tr>\n",
       "      <th>3</th>\n",
       "      <td>CTM1028</td>\n",
       "      <td>OTS34756</td>\n",
       "      <td>Offline</td>\n",
       "      <td>Tiền mặt</td>\n",
       "      <td>MSI</td>\n",
       "      <td>Phong Vũ</td>\n",
       "      <td>Không</td>\n",
       "      <td>12203000.0</td>\n",
       "      <td>9396310.0</td>\n",
       "      <td>2022-05-24</td>\n",
       "      <td>Thông qua người thân, bạn bè, Nhân viên cửa hà...</td>\n",
       "      <td>Cheap</td>\n",
       "    </tr>\n",
       "    <tr>\n",
       "      <th>4</th>\n",
       "      <td>CTM1028</td>\n",
       "      <td>OTS1044</td>\n",
       "      <td>Offline</td>\n",
       "      <td>Tiền mặt</td>\n",
       "      <td>Asus</td>\n",
       "      <td>Thế giới di động</td>\n",
       "      <td>Có</td>\n",
       "      <td>13070000.0</td>\n",
       "      <td>9279700.0</td>\n",
       "      <td>2022-10-08</td>\n",
       "      <td>Nhờ người có chuyên môn tư vấn</td>\n",
       "      <td>Cheap</td>\n",
       "    </tr>\n",
       "  </tbody>\n",
       "</table>\n",
       "</div>"
      ],
      "text/plain": [
       "  CustomerID   OrderID  Channel PaymentType     Brand              Shop  \\\n",
       "0     CTM012    OTS015   Online         Thẻ  LenovoX1          Phong Vũ   \n",
       "1   CTM10164    OTS831  Offline    Tiền mặt     Apple     Viettel Store   \n",
       "2   CTM10246    OTS293  Offline    Tiền mặt      Dell          FPT Shop   \n",
       "3    CTM1028  OTS34756  Offline    Tiền mặt       MSI          Phong Vũ   \n",
       "4    CTM1028   OTS1044  Offline    Tiền mặt      Asus  Thế giới di động   \n",
       "\n",
       "  Promotion   SalePrice     Expense   SaleDate  \\\n",
       "0     Không  27000000.0  20250000.0 2022-04-23   \n",
       "1     Không   3020000.0   2295200.0 2022-08-03   \n",
       "2        Có  18310000.0  14098700.0 2022-10-09   \n",
       "3     Không  12203000.0   9396310.0 2022-05-24   \n",
       "4        Có  13070000.0   9279700.0 2022-10-08   \n",
       "\n",
       "                                           Reference         TypeSale  \n",
       "0                                               Khác  Mid-range Price  \n",
       "1                      Nhân viên cửa hàng bán Laptop            Cheap  \n",
       "2  Nhân viên cửa hàng bán Laptop, Mạng xã hội, We...            Cheap  \n",
       "3  Thông qua người thân, bạn bè, Nhân viên cửa hà...            Cheap  \n",
       "4                     Nhờ người có chuyên môn tư vấn            Cheap  "
      ]
     },
     "execution_count": 64,
     "metadata": {},
     "output_type": "execute_result"
    }
   ],
   "source": [
    "df.head()"
   ]
  },
  {
   "cell_type": "code",
   "execution_count": 115,
   "id": "dfead5fe",
   "metadata": {},
   "outputs": [
    {
     "data": {
      "image/png": "[encoded data removed]",
      "text/plain": [
       "<Figure size 640x480 with 1 Axes>"
      ]
     },
     "metadata": {},
     "output_type": "display_data"
    }
   ],
   "source": [
    "total_by_shop = df.groupby('Shop')['SalePrice'].sum().sort_values(ascending=False)\n",
    "list_total_sales = total_by_shop.values\n",
    "list_shop = total_by_shop.index\n",
    "sns.barplot(data=df, x=list_shop, y=list_total_sales, estimator=np.mean, width=0.5, palette='pastel', order=total_by_brand.index)\n",
    "plt.xticks(rotation='vertical')\n",
    "plt.show()\n"
   ]
  },
  {
   "cell_type": "code",
   "execution_count": null,
   "id": "659e0396",
   "metadata": {},
   "outputs": [],
   "source": [
    "#FPT shop là cửa hàng có doanh thu lớn nhất "
   ]
  },
  {
   "cell_type": "code",
   "execution_count": 117,
   "id": "a68e6fba",
   "metadata": {},
   "outputs": [
    {
     "data": {
      "image/png": "[encoded data removed]",
      "text/plain": [
       "<Figure size 640x480 with 1 Axes>"
      ]
     },
     "metadata": {},
     "output_type": "display_data"
    }
   ],
   "source": [
    "total_by_brand = df.groupby('Brand')['SalePrice'].sum().sort_values(ascending=False)\n",
    "list_total_sales = total_by_brand.values\n",
    "list_Brand = total_by_brand.index\n",
    "sns.barplot(data=df, x=list_Brand, y=list_total_sales, estimator=np.mean, width=0.5, palette='pastel', order=total_by_brand.index)\n",
    "plt.xticks(rotation='vertical')\n",
    "plt.show()"
   ]
  },
  {
   "cell_type": "code",
   "execution_count": null,
   "id": "887d931c",
   "metadata": {},
   "outputs": [],
   "source": [
    "#Asus là hãng máy tính đem lại doanh thu cao nhất "
   ]
  },
  {
   "cell_type": "code",
   "execution_count": 87,
   "id": "3f35a043",
   "metadata": {},
   "outputs": [
    {
     "data": {
      "image/png": "[encoded data removed]",
      "text/plain": [
       "<Figure size 640x480 with 1 Axes>"
      ]
     },
     "metadata": {},
     "output_type": "display_data"
    },
    {
     "data": {
      "image/png": "[encoded data removed]",
      "text/plain": [
       "<Figure size 640x480 with 1 Axes>"
      ]
     },
     "metadata": {},
     "output_type": "display_data"
    },
    {
     "data": {
      "image/png": "[encoded data removed]",
      "text/plain": [
       "<Figure size 640x480 with 1 Axes>"
      ]
     },
     "metadata": {},
     "output_type": "display_data"
    }
   ],
   "source": [
    "def plot_pie_chart(df, column_name, title):\n",
    "    explode = (0, 0.1)\n",
    "    df_gr = df.groupby(column_name).size()\n",
    "\n",
    "    df_gr.plot.pie(subplots=True, autopct='%1.1f%%', startangle=90, explode=explode)\n",
    "    plt.title(title)\n",
    "    plt.show()\n",
    "plot_pie_chart(df, 'PaymentType', 'PaymentType Rate')\n",
    "plot_pie_chart(df, 'Promotion', 'Promotion Rate')\n",
    "plot_pie_chart(df, 'Channel', 'Channel Rate')\n"
   ]
  },
  {
   "cell_type": "code",
   "execution_count": 119,
   "id": "a92e24d4",
   "metadata": {},
   "outputs": [],
   "source": [
    "#Khách hàng đa phần thanh toán bằng thẻ thay vì tiền mặt, điều này dễ hiểu vì khi đi mua máy tính, tiền mặt sẽ có rủi ro cao hơn và tốn thời gian thanh toán hơn\n",
    "#Bán hàng online hay offline cũng không có nhiều sự khác biệt\n",
    "#khách hàng có xu hướng mua hàng có áp dụng khuyến mãi và giảm giá hơn "
   ]
  },
  {
   "cell_type": "code",
   "execution_count": 84,
   "id": "750a90e2",
   "metadata": {},
   "outputs": [
    {
     "data": {
      "image/png": "[encoded data removed]",
      "text/plain": [
       "<Figure size 640x480 with 1 Axes>"
      ]
     },
     "metadata": {},
     "output_type": "display_data"
    }
   ],
   "source": [
    "TotalSalesByMonth = df.groupby(df['SaleDate'].dt.month)['SalePrice'].sum()\n",
    "\n",
    "List_month = TotalSalesByMonth.index\n",
    "List_TotalSales = TotalSalesByMonth.values\n",
    "\n",
    "plt.plot(List_month, List_TotalSales, marker='o')\n",
    "plt.xlabel('Month')\n",
    "plt.ylabel('Total Sales')\n",
    "plt.title('Total Sales by Month')\n",
    "plt.xticks(range(1, 13))\n",
    "\n",
    "plt.show()\n"
   ]
  },
  {
   "cell_type": "code",
   "execution_count": null,
   "id": "7acea5ed",
   "metadata": {},
   "outputs": [],
   "source": [
    "#tháng 2 và khoảng thời gian từ thang 8 đến tháng 9 thu hút nhiều khách hàng mua sản phẩm\n",
    "#tháng 2 là thời điểm sau têt, các bạn học sinh sinh viên có thêm ngân sách để mua máy tính\n",
    "#tháng 8 và 9 là thời điểm sau khi thi chuyển cấp,sinh viên có nhu cầu mua máy tính lớn hơn -> doanh thu thời gian này tăng  "
   ]
  },
  {
   "cell_type": "code",
   "execution_count": null,
   "id": "07ccdcfe",
   "metadata": {},
   "outputs": [],
   "source": [
    "#  kết luận: nên áp dụng các chương trình khuyến mãi và giảm giá vào các tháng khác trong năm ngoại trừ 2,8 và 9 để doanh thu các tháng khác được đẩy lên "
   ]
  },
  {
   "cell_type": "code",
   "execution_count": null,
   "id": "78a91ea1",
   "metadata": {},
   "outputs": [],
   "source": []
  }
 ],
 "metadata": {
  "kernelspec": {
   "display_name": "Python 3 (ipykernel)",
   "language": "python",
   "name": "python3"
  },
  "language_info": {
   "codemirror_mode": {
    "name": "ipython",
    "version": 3
   },
   "file_extension": ".py",
   "mimetype": "text/x-python",
   "name": "python",
   "nbconvert_exporter": "python",
   "pygments_lexer": "ipython3",
   "version": "3.10.9"
  }
 },
 "nbformat": 4,
 "nbformat_minor": 5
}
